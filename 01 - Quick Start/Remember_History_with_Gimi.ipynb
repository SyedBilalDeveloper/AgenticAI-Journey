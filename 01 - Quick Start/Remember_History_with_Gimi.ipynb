{
  "nbformat": 4,
  "nbformat_minor": 0,
  "metadata": {
    "colab": {
      "provenance": [],
      "authorship_tag": "ABX9TyPlnZ9gzr3ABz2PfUuHyxA6",
      "include_colab_link": true
    },
    "kernelspec": {
      "name": "python3",
      "display_name": "Python 3"
    },
    "language_info": {
      "name": "python"
    }
  },
  "cells": [
    {
      "cell_type": "markdown",
      "metadata": {
        "id": "view-in-github",
        "colab_type": "text"
      },
      "source": [
        "<a href=\"https://colab.research.google.com/github/SyedBilalDeveloper/AgenticAI-Journey/blob/main/01%20-%20Quick%20Start/Remember_History_with_Gimi.ipynb\" target=\"_parent\"><img src=\"https://colab.research.google.com/assets/colab-badge.svg\" alt=\"Open In Colab\"/></a>"
      ]
    },
    {
      "cell_type": "markdown",
      "source": [
        "# Configrations"
      ],
      "metadata": {
        "id": "MX5kT7GpBfWR"
      }
    },
    {
      "cell_type": "code",
      "execution_count": 1,
      "metadata": {
        "id": "gQ-YKvF-BdI4"
      },
      "outputs": [],
      "source": [
        "!pip install -U -q \"google-generativeai>0.7.2\"\n",
        "import google.generativeai as genai"
      ]
    },
    {
      "cell_type": "code",
      "source": [
        "from google.colab import userdata\n",
        "GOOGLE_API_KEY = userdata.get(\"GOOGLE_API_KEY\")"
      ],
      "metadata": {
        "id": "fGGKU7ZJB0Pp"
      },
      "execution_count": 2,
      "outputs": []
    },
    {
      "cell_type": "code",
      "source": [
        "genai.configure(api_key=GOOGLE_API_KEY)"
      ],
      "metadata": {
        "id": "Qif96mvLCMK3"
      },
      "execution_count": 3,
      "outputs": []
    },
    {
      "cell_type": "markdown",
      "source": [
        "# Have Chat or History"
      ],
      "metadata": {
        "id": "B_gJQ9EBCe9m"
      }
    },
    {
      "cell_type": "code",
      "source": [
        "model = genai.GenerativeModel('gemini-1.5-flash')\n",
        "chat = model.start_chat(history=[])"
      ],
      "metadata": {
        "id": "eboBP4iUCgJV"
      },
      "execution_count": 4,
      "outputs": []
    },
    {
      "cell_type": "markdown",
      "source": [
        "## Questions & Answer"
      ],
      "metadata": {
        "id": "HH9iNRGaEJyF"
      }
    },
    {
      "cell_type": "code",
      "source": [
        "response = chat.send_message(\"Why do we sleep?\")\n",
        "print(response.text)"
      ],
      "metadata": {
        "colab": {
          "base_uri": "https://localhost:8080/",
          "height": 52
        },
        "id": "g-bp52jqC6cv",
        "outputId": "f9997069-fc14-44ed-b78c-359301f96d4c"
      },
      "execution_count": 8,
      "outputs": [
        {
          "output_type": "stream",
          "name": "stdout",
          "text": [
            "We sleep to allow our bodies and brains to rest, repair, and consolidate memories.\n",
            "\n"
          ]
        }
      ]
    },
    {
      "cell_type": "code",
      "source": [
        "response = chat.send_message(\"What is the internet?\")\n",
        "print(response.text)"
      ],
      "metadata": {
        "colab": {
          "base_uri": "https://localhost:8080/",
          "height": 72
        },
        "id": "bxJyulfdDq8d",
        "outputId": "568885a1-d5f4-450a-f432-7bf4a2dd66dd"
      },
      "execution_count": 9,
      "outputs": [
        {
          "output_type": "stream",
          "name": "stdout",
          "text": [
            "The internet is a globally interconnected network of computer networks that allows for the exchange of information and communication worldwide.\n",
            "\n"
          ]
        }
      ]
    },
    {
      "cell_type": "markdown",
      "source": [
        "## Remember chat history:"
      ],
      "metadata": {
        "id": "AHTX6AfpD84e"
      }
    },
    {
      "cell_type": "code",
      "source": [
        "print(chat.history)"
      ],
      "metadata": {
        "colab": {
          "base_uri": "https://localhost:8080/"
        },
        "collapsed": true,
        "id": "lvgAfYyqD95t",
        "outputId": "00126105-c597-4065-887c-d010cc94c35e"
      },
      "execution_count": 10,
      "outputs": [
        {
          "output_type": "stream",
          "name": "stdout",
          "text": [
            "[parts {\n",
            "  text: \"In one Sentence, Can you explain why computers need to be restarted sometimes?\"\n",
            "}\n",
            "role: \"user\"\n",
            ", parts {\n",
            "  text: \"Restarting a computer clears out accumulated errors and processes, allowing it to run more efficiently and reliably.\\n\"\n",
            "}\n",
            "role: \"model\"\n",
            ", parts {\n",
            "  text: \"In one Sentence, How does Google know what I’m looking for when I search?\"\n",
            "}\n",
            "role: \"user\"\n",
            ", parts {\n",
            "  text: \"Google\\'s algorithms analyze the keywords in your search query, cross-reference them with its massive index of web pages, and return results ranked by relevance and other factors.\\n\"\n",
            "}\n",
            "role: \"model\"\n",
            ", parts {\n",
            "  text: \"Why do we sleep?\"\n",
            "}\n",
            "role: \"user\"\n",
            ", parts {\n",
            "  text: \"We sleep to allow our bodies and brains to rest, repair, and consolidate memories.\\n\"\n",
            "}\n",
            "role: \"model\"\n",
            ", parts {\n",
            "  text: \"What is the internet?\"\n",
            "}\n",
            "role: \"user\"\n",
            ", parts {\n",
            "  text: \"The internet is a globally interconnected network of computer networks that allows for the exchange of information and communication worldwide.\\n\"\n",
            "}\n",
            "role: \"model\"\n",
            "]\n"
          ]
        }
      ]
    },
    {
      "cell_type": "markdown",
      "source": [
        "sending messages to continue the conversation:"
      ],
      "metadata": {
        "id": "AO5Ry9b3Eq-b"
      }
    },
    {
      "cell_type": "code",
      "source": [
        "response = chat.send_message(\"Okay, do you have any intresting question?\")\n",
        "print(response.text)"
      ],
      "metadata": {
        "colab": {
          "base_uri": "https://localhost:8080/",
          "height": 52
        },
        "id": "-3hDwJpREkZ0",
        "outputId": "c8882718-75df-4f9c-a5ca-147b186e887c"
      },
      "execution_count": 11,
      "outputs": [
        {
          "output_type": "stream",
          "name": "stdout",
          "text": [
            "If you could instantly learn any one skill, regardless of difficulty or time commitment, what would it be and why?\n",
            "\n"
          ]
        }
      ]
    },
    {
      "cell_type": "code",
      "source": [
        "print(chat.history)"
      ],
      "metadata": {
        "collapsed": true,
        "colab": {
          "base_uri": "https://localhost:8080/"
        },
        "id": "ydtmzHT9I1Dk",
        "outputId": "7ce3add7-cc30-4ce7-c167-5d727a7a175f"
      },
      "execution_count": 12,
      "outputs": [
        {
          "output_type": "stream",
          "name": "stdout",
          "text": [
            "[parts {\n",
            "  text: \"In one Sentence, Can you explain why computers need to be restarted sometimes?\"\n",
            "}\n",
            "role: \"user\"\n",
            ", parts {\n",
            "  text: \"Restarting a computer clears out accumulated errors and processes, allowing it to run more efficiently and reliably.\\n\"\n",
            "}\n",
            "role: \"model\"\n",
            ", parts {\n",
            "  text: \"In one Sentence, How does Google know what I’m looking for when I search?\"\n",
            "}\n",
            "role: \"user\"\n",
            ", parts {\n",
            "  text: \"Google\\'s algorithms analyze the keywords in your search query, cross-reference them with its massive index of web pages, and return results ranked by relevance and other factors.\\n\"\n",
            "}\n",
            "role: \"model\"\n",
            ", parts {\n",
            "  text: \"Why do we sleep?\"\n",
            "}\n",
            "role: \"user\"\n",
            ", parts {\n",
            "  text: \"We sleep to allow our bodies and brains to rest, repair, and consolidate memories.\\n\"\n",
            "}\n",
            "role: \"model\"\n",
            ", parts {\n",
            "  text: \"What is the internet?\"\n",
            "}\n",
            "role: \"user\"\n",
            ", parts {\n",
            "  text: \"The internet is a globally interconnected network of computer networks that allows for the exchange of information and communication worldwide.\\n\"\n",
            "}\n",
            "role: \"model\"\n",
            ", parts {\n",
            "  text: \"Okay, do you have any intresting question?\"\n",
            "}\n",
            "role: \"user\"\n",
            ", parts {\n",
            "  text: \"If you could instantly learn any one skill, regardless of difficulty or time commitment, what would it be and why?\\n\"\n",
            "}\n",
            "role: \"model\"\n",
            "]\n"
          ]
        }
      ]
    }
  ]
}