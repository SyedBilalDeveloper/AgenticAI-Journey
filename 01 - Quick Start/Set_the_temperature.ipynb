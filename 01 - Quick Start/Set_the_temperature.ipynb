{
  "nbformat": 4,
  "nbformat_minor": 0,
  "metadata": {
    "colab": {
      "provenance": [],
      "authorship_tag": "ABX9TyOizp73mxA+TCOogzw//22S",
      "include_colab_link": true
    },
    "kernelspec": {
      "name": "python3",
      "display_name": "Python 3"
    },
    "language_info": {
      "name": "python"
    }
  },
  "cells": [
    {
      "cell_type": "markdown",
      "metadata": {
        "id": "view-in-github",
        "colab_type": "text"
      },
      "source": [
        "<a href=\"https://colab.research.google.com/github/SyedBilalDeveloper/AgenticAI-Journey/blob/main/01%20-%20Quick%20Start/Set_the_temperature.ipynb\" target=\"_parent\"><img src=\"https://colab.research.google.com/assets/colab-badge.svg\" alt=\"Open In Colab\"/></a>"
      ]
    },
    {
      "cell_type": "markdown",
      "source": [
        "#Configration"
      ],
      "metadata": {
        "id": "o5zJ6lrcKdJp"
      }
    },
    {
      "cell_type": "code",
      "execution_count": 1,
      "metadata": {
        "id": "vzSSb_skJyRC"
      },
      "outputs": [],
      "source": [
        "!pip install -U -q \"google-generativeai>0.7.2\"\n",
        "import google.generativeai as genai"
      ]
    },
    {
      "cell_type": "code",
      "source": [
        "from google.colab import userdata\n",
        "GOOGLE_API_KEY = userdata.get(\"GOOGLE_API_KEY\")"
      ],
      "metadata": {
        "id": "3Ypr2VHfKAva"
      },
      "execution_count": 2,
      "outputs": []
    },
    {
      "cell_type": "code",
      "source": [
        "genai.configure(api_key=GOOGLE_API_KEY)"
      ],
      "metadata": {
        "id": "KJf1ndq2KRpg"
      },
      "execution_count": 4,
      "outputs": []
    },
    {
      "cell_type": "markdown",
      "source": [
        "Set the temperature"
      ],
      "metadata": {
        "id": "U-JmqkC1KjjX"
      }
    },
    {
      "cell_type": "code",
      "source": [
        "model = genai.GenerativeModel(\n",
        "    'gemini-1.5-flash',\n",
        "    generation_config=genai.GenerationConfig(\n",
        "        max_output_tokens=2000,\n",
        "        temperature=0.9,\n",
        "    ))"
      ],
      "metadata": {
        "id": "ZS0-9ikWKaPt"
      },
      "execution_count": 5,
      "outputs": []
    },
    {
      "cell_type": "code",
      "source": [
        "model"
      ],
      "metadata": {
        "colab": {
          "base_uri": "https://localhost:8080/"
        },
        "collapsed": true,
        "id": "FDW1WgsbUGJ8",
        "outputId": "8e954007-9dfc-4dcb-db14-961b9f20993b"
      },
      "execution_count": 8,
      "outputs": [
        {
          "output_type": "execute_result",
          "data": {
            "text/plain": [
              "genai.GenerativeModel(\n",
              "    model_name='models/gemini-1.5-flash',\n",
              "    generation_config={'max_output_tokens': 2000, 'temperature': 0.9},\n",
              "    safety_settings={},\n",
              "    tools=None,\n",
              "    system_instruction=None,\n",
              "    cached_content=None\n",
              ")"
            ]
          },
          "metadata": {},
          "execution_count": 8
        }
      ]
    },
    {
      "cell_type": "code",
      "source": [
        "response = model.generate_content(\n",
        "    'Give me a numbered list of cat facts.',\n",
        "    # Limit to 5 facts.\n",
        "    generation_config = genai.GenerationConfig(stop_sequences=['\\n6'])\n",
        ")"
      ],
      "metadata": {
        "id": "h9C7CMlzKve8"
      },
      "execution_count": 6,
      "outputs": []
    },
    {
      "cell_type": "code",
      "source": [
        "print(response.text)"
      ],
      "metadata": {
        "colab": {
          "base_uri": "https://localhost:8080/"
        },
        "id": "MWmMKXc4KzPc",
        "outputId": "24575bda-dca3-45a1-e8ad-6ff230403beb"
      },
      "execution_count": 7,
      "outputs": [
        {
          "output_type": "stream",
          "name": "stdout",
          "text": [
            "1. Cats can make over 100 different sounds, while dogs can only make about 10.\n",
            "\n",
            "2. A cat's purr has been shown to have healing properties, potentially accelerating bone repair and wound healing.\n",
            "\n",
            "3. Cats can jump up to six times their height.\n",
            "\n",
            "4.  A group of cats is called a clowder.\n",
            "\n",
            "5.  A cat's whiskers are highly sensitive and help them navigate in tight spaces and detect changes in air currents.\n",
            "\n"
          ]
        }
      ]
    },
    {
      "cell_type": "markdown",
      "source": [
        "# **Theory**"
      ],
      "metadata": {
        "id": "baFHGyPohj6d"
      }
    },
    {
      "cell_type": "markdown",
      "source": [
        "Every prompt you send to the model includes parameters that control how the model generates responses. Use a genai.GenerationConfig to set these, or omit it to use the defaults.\n",
        "\n",
        "Temperature controls the degree of randomness in token selection. Use higher values for more creative responses, and lower values for more deterministic responses.\n",
        "\n",
        "You can set the generation_config when creating the model."
      ],
      "metadata": {
        "id": "lhMpJSjthtfB"
      }
    },
    {
      "cell_type": "markdown",
      "source": [
        "Low Temprature (More Focused)\n",
        "\n",
        "\n",
        "*   Logical and predictable action or responce\n",
        "*   Stateforward like to the point answer\n",
        "\n",
        "High Temprature (More Creative)\n",
        "\n",
        "\n",
        "*   unusual ideas or suprising words like an artist\n",
        "*   creative like poetry, layric, motivaton, dramatic and descriptive\n",
        "\n",
        "\n",
        "Note: if temprature value low means zero then on one prompt then generate only one answer , even we asked again then share similar answer . but if we add high temprature then each time the result or responce will be different."
      ],
      "metadata": {
        "id": "UBsa18rIigpe"
      }
    }
  ]
}