{
  "cells": [
    {
      "cell_type": "markdown",
      "metadata": {
        "colab_type": "text",
        "id": "view-in-github"
      },
      "source": [
        "<a href=\"https://colab.research.google.com/github/SyedBilalDeveloper/AgenticAI-Journey/blob/main/01%20-%20Langchan/01_RAG_with_Pinecone_API.ipynb\" target=\"_parent\"><img src=\"https://colab.research.google.com/assets/colab-badge.svg\" alt=\"Open In Colab\"/></a>"
      ]
    },
    {
      "cell_type": "code",
      "execution_count": 1,
      "metadata": {
        "colab": {
          "base_uri": "https://localhost:8080/"
        },
        "id": "HZzbaipCrDbt",
        "outputId": "85b7d2b1-8860-4d77-ff95-3773588a5213"
      },
      "outputs": [
        {
          "name": "stdout",
          "output_type": "stream",
          "text": [
            "\u001b[?25l   \u001b[90m━━━━━━━━━━━━━━━━━━━━━━━━━━━━━━━━━━━━━━━━\u001b[0m \u001b[32m0.0/41.7 kB\u001b[0m \u001b[31m?\u001b[0m eta \u001b[36m-:--:--\u001b[0m\r\u001b[2K   \u001b[90m━━━━━━━━━━━━━━━━━━━━━━━━━━━━━━━━━━━━━━━━\u001b[0m \u001b[32m41.7/41.7 kB\u001b[0m \u001b[31m2.3 MB/s\u001b[0m eta \u001b[36m0:00:00\u001b[0m\n",
            "\u001b[2K   \u001b[90m━━━━━━━━━━━━━━━━━━━━━━━━━━━━━━━━━━━━━━━━\u001b[0m \u001b[32m1.3/1.3 MB\u001b[0m \u001b[31m24.2 MB/s\u001b[0m eta \u001b[36m0:00:00\u001b[0m\n",
            "\u001b[2K   \u001b[90m━━━━━━━━━━━━━━━━━━━━━━━━━━━━━━━━━━━━━━━━\u001b[0m \u001b[32m412.7/412.7 kB\u001b[0m \u001b[31m21.5 MB/s\u001b[0m eta \u001b[36m0:00:00\u001b[0m\n",
            "\u001b[2K   \u001b[90m━━━━━━━━━━━━━━━━━━━━━━━━━━━━━━━━━━━━━━━━\u001b[0m \u001b[32m427.3/427.3 kB\u001b[0m \u001b[31m21.4 MB/s\u001b[0m eta \u001b[36m0:00:00\u001b[0m\n",
            "\u001b[2K   \u001b[90m━━━━━━━━━━━━━━━━━━━━━━━━━━━━━━━━━━━━━━━━\u001b[0m \u001b[32m87.5/87.5 kB\u001b[0m \u001b[31m4.8 MB/s\u001b[0m eta \u001b[36m0:00:00\u001b[0m\n",
            "\u001b[2K   \u001b[90m━━━━━━━━━━━━━━━━━━━━━━━━━━━━━━━━━━━━━━━━\u001b[0m \u001b[32m50.3/50.3 kB\u001b[0m \u001b[31m2.7 MB/s\u001b[0m eta \u001b[36m0:00:00\u001b[0m\n",
            "\u001b[?25h"
          ]
        }
      ],
      "source": [
        "# Step 1: Install Required Libraries\n",
        "%pip install -qU langchain-pinecone langchain-google-genai"
      ]
    },
    {
      "cell_type": "code",
      "execution_count": 2,
      "metadata": {
        "id": "OCdfdQmwsUSe"
      },
      "outputs": [],
      "source": [
        "# Step 2: Import Required Modules and Setup Pinecone\n",
        "from google.colab import userdata\n",
        "from pinecone import Pinecone, ServerlessSpec"
      ]
    },
    {
      "cell_type": "code",
      "execution_count": 4,
      "metadata": {
        "id": "z8oI0CqEsZtp"
      },
      "outputs": [],
      "source": [
        "# Fetch the Pinecone API Key securely from user data\n",
        "PINECONE_API_KEY = userdata.get('PINECONE_API_KEY')"
      ]
    },
    {
      "cell_type": "code",
      "execution_count": 5,
      "metadata": {
        "id": "g69ibpkqsc_Z"
      },
      "outputs": [],
      "source": [
        "# Initialize Pinecone client with the API key\n",
        "pc = Pinecone(api_key=PINECONE_API_KEY)"
      ]
    },
    {
      "cell_type": "code",
      "execution_count": 10,
      "metadata": {
        "id": "u2vDQdYNsnSC"
      },
      "outputs": [],
      "source": [
        "# Create a Pinecone Index\n",
        "index_name = \"rag-project\"\n",
        "pc.create_index(\n",
        "    name=index_name,\n",
        "    dimension=768,\n",
        "    metric=\"cosine\",\n",
        "    spec=ServerlessSpec(cloud=\"aws\", region=\"us-east-1\"),\n",
        ")\n"
      ]
    },
    {
      "cell_type": "code",
      "execution_count": 11,
      "metadata": {
        "id": "knPYYnfDt1RY"
      },
      "outputs": [],
      "source": [
        "# Connect to the created index\n",
        "index = pc.Index(index_name)\n"
      ]
    },
    {
      "cell_type": "code",
      "execution_count": 12,
      "metadata": {
        "id": "DnaPj7z1t8d_"
      },
      "outputs": [],
      "source": [
        "# Step 3: Setup Google Generative AI Embeddings\n",
        "from langchain_google_genai import GoogleGenerativeAIEmbeddings\n",
        "import os"
      ]
    },
    {
      "cell_type": "code",
      "execution_count": 14,
      "metadata": {
        "id": "i2YCOrqMuAxf"
      },
      "outputs": [],
      "source": [
        "# Fetch the Google API Key securely from user data\n",
        "os.environ[\"GOOGLE_API_KEY\"] = userdata.get('GOOGLE_API_KEY')\n"
      ]
    },
    {
      "cell_type": "code",
      "execution_count": 15,
      "metadata": {
        "id": "qNTMPaSJuNof"
      },
      "outputs": [],
      "source": [
        "# Initialize the embedding model\n",
        "embeddings = GoogleGenerativeAIEmbeddings(model=\"models/embedding-001\")"
      ]
    },
    {
      "cell_type": "code",
      "execution_count": 17,
      "metadata": {
        "colab": {
          "base_uri": "https://localhost:8080/"
        },
        "id": "sduz0LK6uUtw",
        "outputId": "68909a63-2cd8-4c05-f4ae-9a463c05279c"
      },
      "outputs": [
        {
          "name": "stdout",
          "output_type": "stream",
          "text": [
            "Embedding Vector (First 5 values): [0.04691950976848602, -0.019704652950167656, -0.05014841631054878, -0.03578326478600502, 0.02460779808461666]\n"
          ]
        }
      ],
      "source": [
        "# Step 4: Convert a Text Query into an Embedding Vector\n",
        "vector = embeddings.embed_query(\"we are building rag text\")\n",
        "print(\"Embedding Vector (First 5 values):\", vector[:5])\n",
        "# Display the first 5 values of the vector\n"
      ]
    },
    {
      "cell_type": "code",
      "execution_count": 18,
      "metadata": {
        "id": "zW4jTkhMucbx"
      },
      "outputs": [],
      "source": [
        "# Step 5: Initialize Pinecone Vector Store\n",
        "from langchain_pinecone import PineconeVectorStore\n",
        "vector_store = PineconeVectorStore(index=index, embedding=embeddings)"
      ]
    },
    {
      "cell_type": "code",
      "execution_count": 20,
      "metadata": {
        "id": "OJ93UJ8Wuo7o"
      },
      "outputs": [],
      "source": [
        "# Step 6: Create Sample Documents\n",
        "from langchain_core.documents import Document\n",
        "documents = [\n",
        "    Document(page_content=\"The weather forecast for tomorrow is cloudy and overcast, with a high of 62 degrees.\", metadata={\"source\": \"news\"}),\n",
        "    Document(page_content=\"Building an exciting new project with LangChain - come check it out!\", metadata={\"source\": \"tweet\"}),\n",
        "    Document(page_content=\"Robbers broke into the city bank and stole $1 million in cash.\", metadata={\"source\": \"news\"}),\n",
        "    Document(page_content=\"Wow! That was an amazing movie. I can't wait to see it again.\", metadata={\"source\": \"tweet\"}),\n",
        "    Document(page_content=\"Is the new iPhone worth the price? Read this review to find out.\", metadata={\"source\": \"website\"}),\n",
        "    Document(page_content=\"The top 10 soccer players in the world right now.\", metadata={\"source\": \"website\"}),\n",
        "]\n"
      ]
    },
    {
      "cell_type": "code",
      "execution_count": 21,
      "metadata": {
        "colab": {
          "base_uri": "https://localhost:8080/"
        },
        "id": "EHRkx5pWu8mn",
        "outputId": "93b083c8-43ea-43bb-e541-3416f7cc251e"
      },
      "outputs": [
        {
          "data": {
            "text/plain": [
              "['6179f478-0d74-4689-8983-c40611240c1b',\n",
              " 'b60f98c6-75db-47fc-922f-e50dbc3f2799',\n",
              " 'b222c487-726b-469e-a6b7-c89c4971305a',\n",
              " '8b527bb8-bbd7-471a-b6f7-3851e86e4999',\n",
              " '3940f2f4-24a5-4ba1-b6d9-513eff497aca',\n",
              " '63677ac2-f92f-4d74-b9c7-7c3cffb18bd3']"
            ]
          },
          "execution_count": 21,
          "metadata": {},
          "output_type": "execute_result"
        }
      ],
      "source": [
        "# Store documents in Pinecone\n",
        "from uuid import uuid4\n",
        "uuids = [str(uuid4()) for _ in range(len(documents))]\n",
        "vector_store.add_documents(documents=documents, ids=uuids)\n"
      ]
    },
    {
      "cell_type": "code",
      "execution_count": 22,
      "metadata": {
        "id": "HyPz2Zhxu8RU"
      },
      "outputs": [],
      "source": [
        "# Step 7: Retrieve Relevant Documents Using Similarity Search\n",
        "results = vector_store.similarity_search(\n",
        "    \"What is the weather forecast for tomorrow?\",\n",
        "    k=2,\n",
        "    filter={\"source\": \"news\"},\n",
        ")"
      ]
    },
    {
      "cell_type": "code",
      "execution_count": 23,
      "metadata": {
        "colab": {
          "base_uri": "https://localhost:8080/"
        },
        "id": "RD5I3N1Ou8Ac",
        "outputId": "b314eaf2-e066-4459-dad8-81c51e04cf1c"
      },
      "outputs": [
        {
          "name": "stdout",
          "output_type": "stream",
          "text": [
            "\n",
            "Retrieved Documents Based on Query:\n"
          ]
        }
      ],
      "source": [
        "# Print the retrieved documents\n",
        "print(\"\\nRetrieved Documents Based on Query:\")\n",
        "for res in results:\n",
        "    print(f\"* {res.page_content} [{res.metadata}]\")"
      ]
    },
    {
      "cell_type": "code",
      "execution_count": 26,
      "metadata": {
        "id": "VZgWtusJwy3V"
      },
      "outputs": [],
      "source": [
        "from langchain_google_genai import ChatGoogleGenerativeAI\n",
        "\n",
        "llm = ChatGoogleGenerativeAI(\n",
        "    model=\"gemini-1.5-flash\",\n",
        "    temperature=0,\n",
        "    max_tokens=None,\n",
        "    timeout=None,\n",
        "    max_retries=2,\n",
        "    # other params...\n",
        ")"
      ]
    },
    {
      "cell_type": "code",
      "execution_count": 27,
      "metadata": {
        "id": "3sKxvsdlvd43"
      },
      "outputs": [],
      "source": [
        "# Step 8: Generate an Answer to a Query\n",
        "def answer_to_user(query: str):\n",
        "    vector_results = vector_store.similarity_search(query, k=2)  # Get similar docs\n",
        "    # Assuming 'model' is pre-trained for response generation (not shown here)\n",
        "    final_answer = llm.invoke(f\"ANSWER THIS QUERY:{query}, HERE ARE SOME REFERENCES ANSWER{vector_results}\")\n",
        "\n",
        "    # Placeholder for the generated answer\n",
        "    return final_answer\n"
      ]
    },
    {
      "cell_type": "code",
      "execution_count": 29,
      "metadata": {
        "colab": {
          "base_uri": "https://localhost:8080/"
        },
        "id": "-LEZdsAuvo4v",
        "outputId": "fc55321f-4dba-4bd3-82c1-d25d885d246b"
      },
      "outputs": [
        {
          "name": "stdout",
          "output_type": "stream",
          "text": [
            "\n",
            "Generated Answer: The weather forecast for tomorrow is cloudy and overcast, with a high of 62 degrees.\n"
          ]
        }
      ],
      "source": [
        "# Example Input: Query to generate an answer\n",
        "response = answer_to_user(\"What is the weather like tomorrow?\")\n",
        "print(\"\\nGenerated Answer:\", response.content)"
      ]
    },
    {
      "cell_type": "code",
      "execution_count": 30,
      "metadata": {
        "colab": {
          "base_uri": "https://localhost:8080/"
        },
        "id": "-zWohywX1hgu",
        "outputId": "80306ad5-4982-495f-8774-f079b4ca4f8b"
      },
      "outputs": [
        {
          "name": "stdout",
          "output_type": "stream",
          "text": [
            "\n",
            "Generated Answer: Based on the provided text, the weather forecast for tomorrow is cloudy and overcast with a high of 62 degrees.\n"
          ]
        }
      ],
      "source": [
        "# Example Input: Query to generate an answer\n",
        "response = answer_to_user(\"What is the weather?\")\n",
        "print(\"\\nGenerated Answer:\", response.content)"
      ]
    }
  ],
  "metadata": {
    "colab": {
      "authorship_tag": "ABX9TyOzytCwhhQXr8EwOuT6jl+9",
      "include_colab_link": true,
      "provenance": []
    },
    "kernelspec": {
      "display_name": "Python 3",
      "name": "python3"
    },
    "language_info": {
      "name": "python"
    }
  },
  "nbformat": 4,
  "nbformat_minor": 0
}
